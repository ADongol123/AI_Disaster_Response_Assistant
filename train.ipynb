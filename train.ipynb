{
 "cells": [
  {
   "cell_type": "code",
   "id": "initial_id",
   "metadata": {
    "collapsed": true,
    "ExecuteTime": {
     "end_time": "2024-11-14T15:56:27.739714Z",
     "start_time": "2024-11-14T15:56:27.375684Z"
    }
   },
   "source": [
    "from gettext import npgettext\n",
    "\n",
    "import pandas as pd\n",
    "import numpy as np"
   ],
   "outputs": [],
   "execution_count": 1
  },
  {
   "metadata": {
    "ExecuteTime": {
     "end_time": "2024-11-14T15:57:14.745408Z",
     "start_time": "2024-11-14T15:57:14.732827Z"
    }
   },
   "cell_type": "code",
   "source": "dataset = pd.read_csv('./data/us_weather_forecast.csv')",
   "id": "7009979efeac554",
   "outputs": [],
   "execution_count": 2
  },
  {
   "metadata": {
    "ExecuteTime": {
     "end_time": "2024-11-14T15:57:18.482598Z",
     "start_time": "2024-11-14T15:57:18.468984Z"
    }
   },
   "cell_type": "code",
   "source": "dataset.head()",
   "id": "e3a06cdc39ccc53a",
   "outputs": [
    {
     "data": {
      "text/plain": [
       "       City        Date                 Start Time                   End Time  \\\n",
       "0  New York  2024-11-14  2024-11-14T09:00:00-05:00  2024-11-14T18:00:00-05:00   \n",
       "1  New York  2024-11-14  2024-11-14T18:00:00-05:00  2024-11-15T06:00:00-05:00   \n",
       "2  New York  2024-11-14  2024-11-15T06:00:00-05:00  2024-11-15T18:00:00-05:00   \n",
       "3  New York  2024-11-14  2024-11-15T18:00:00-05:00  2024-11-16T06:00:00-05:00   \n",
       "4  New York  2024-11-14  2024-11-16T06:00:00-05:00  2024-11-16T18:00:00-05:00   \n",
       "\n",
       "   Temperature Temperature Unit   Wind Speed Wind Direction  \\\n",
       "0           47                F        9 mph             NE   \n",
       "1           40                F        8 mph              N   \n",
       "2           56                F  8 to 12 mph              N   \n",
       "3           46                F       13 mph             NW   \n",
       "4           59                F       15 mph             NW   \n",
       "\n",
       "                                            Forecast  \n",
       "0  Mostly cloudy, with a high near 47. Northeast ...  \n",
       "1  Mostly cloudy, with a low around 40. North win...  \n",
       "2  Mostly sunny. High near 56, with temperatures ...  \n",
       "3  Mostly clear, with a low around 46. Northwest ...  \n",
       "4  Sunny. High near 59, with temperatures falling...  "
      ],
      "text/html": [
       "<div>\n",
       "<style scoped>\n",
       "    .dataframe tbody tr th:only-of-type {\n",
       "        vertical-align: middle;\n",
       "    }\n",
       "\n",
       "    .dataframe tbody tr th {\n",
       "        vertical-align: top;\n",
       "    }\n",
       "\n",
       "    .dataframe thead th {\n",
       "        text-align: right;\n",
       "    }\n",
       "</style>\n",
       "<table border=\"1\" class=\"dataframe\">\n",
       "  <thead>\n",
       "    <tr style=\"text-align: right;\">\n",
       "      <th></th>\n",
       "      <th>City</th>\n",
       "      <th>Date</th>\n",
       "      <th>Start Time</th>\n",
       "      <th>End Time</th>\n",
       "      <th>Temperature</th>\n",
       "      <th>Temperature Unit</th>\n",
       "      <th>Wind Speed</th>\n",
       "      <th>Wind Direction</th>\n",
       "      <th>Forecast</th>\n",
       "    </tr>\n",
       "  </thead>\n",
       "  <tbody>\n",
       "    <tr>\n",
       "      <th>0</th>\n",
       "      <td>New York</td>\n",
       "      <td>2024-11-14</td>\n",
       "      <td>2024-11-14T09:00:00-05:00</td>\n",
       "      <td>2024-11-14T18:00:00-05:00</td>\n",
       "      <td>47</td>\n",
       "      <td>F</td>\n",
       "      <td>9 mph</td>\n",
       "      <td>NE</td>\n",
       "      <td>Mostly cloudy, with a high near 47. Northeast ...</td>\n",
       "    </tr>\n",
       "    <tr>\n",
       "      <th>1</th>\n",
       "      <td>New York</td>\n",
       "      <td>2024-11-14</td>\n",
       "      <td>2024-11-14T18:00:00-05:00</td>\n",
       "      <td>2024-11-15T06:00:00-05:00</td>\n",
       "      <td>40</td>\n",
       "      <td>F</td>\n",
       "      <td>8 mph</td>\n",
       "      <td>N</td>\n",
       "      <td>Mostly cloudy, with a low around 40. North win...</td>\n",
       "    </tr>\n",
       "    <tr>\n",
       "      <th>2</th>\n",
       "      <td>New York</td>\n",
       "      <td>2024-11-14</td>\n",
       "      <td>2024-11-15T06:00:00-05:00</td>\n",
       "      <td>2024-11-15T18:00:00-05:00</td>\n",
       "      <td>56</td>\n",
       "      <td>F</td>\n",
       "      <td>8 to 12 mph</td>\n",
       "      <td>N</td>\n",
       "      <td>Mostly sunny. High near 56, with temperatures ...</td>\n",
       "    </tr>\n",
       "    <tr>\n",
       "      <th>3</th>\n",
       "      <td>New York</td>\n",
       "      <td>2024-11-14</td>\n",
       "      <td>2024-11-15T18:00:00-05:00</td>\n",
       "      <td>2024-11-16T06:00:00-05:00</td>\n",
       "      <td>46</td>\n",
       "      <td>F</td>\n",
       "      <td>13 mph</td>\n",
       "      <td>NW</td>\n",
       "      <td>Mostly clear, with a low around 46. Northwest ...</td>\n",
       "    </tr>\n",
       "    <tr>\n",
       "      <th>4</th>\n",
       "      <td>New York</td>\n",
       "      <td>2024-11-14</td>\n",
       "      <td>2024-11-16T06:00:00-05:00</td>\n",
       "      <td>2024-11-16T18:00:00-05:00</td>\n",
       "      <td>59</td>\n",
       "      <td>F</td>\n",
       "      <td>15 mph</td>\n",
       "      <td>NW</td>\n",
       "      <td>Sunny. High near 59, with temperatures falling...</td>\n",
       "    </tr>\n",
       "  </tbody>\n",
       "</table>\n",
       "</div>"
      ]
     },
     "execution_count": 3,
     "metadata": {},
     "output_type": "execute_result"
    }
   ],
   "execution_count": 3
  },
  {
   "metadata": {},
   "cell_type": "code",
   "outputs": [],
   "execution_count": null,
   "source": "",
   "id": "978c08470933705c"
  }
 ],
 "metadata": {
  "kernelspec": {
   "display_name": "Python 3",
   "language": "python",
   "name": "python3"
  },
  "language_info": {
   "codemirror_mode": {
    "name": "ipython",
    "version": 2
   },
   "file_extension": ".py",
   "mimetype": "text/x-python",
   "name": "python",
   "nbconvert_exporter": "python",
   "pygments_lexer": "ipython2",
   "version": "2.7.6"
  }
 },
 "nbformat": 4,
 "nbformat_minor": 5
}
